{
 "cells": [
  {
   "cell_type": "code",
   "execution_count": 1,
   "id": "4e71af5a-c10b-4a07-919c-627c55872e4d",
   "metadata": {},
   "outputs": [],
   "source": [
    "#Answer 1"
   ]
  },
  {
   "cell_type": "code",
   "execution_count": 2,
   "id": "55723181-7192-460c-94ed-46fd7368daf8",
   "metadata": {},
   "outputs": [],
   "source": [
    "a=5\n",
    "b=15\n"
   ]
  },
  {
   "cell_type": "code",
   "execution_count": 3,
   "id": "c353ed90-ff30-4618-a8f3-e4c5bc0f7a55",
   "metadata": {},
   "outputs": [
    {
     "data": {
      "text/plain": [
       "20"
      ]
     },
     "execution_count": 3,
     "metadata": {},
     "output_type": "execute_result"
    }
   ],
   "source": [
    "#sum\n",
    "a+b"
   ]
  },
  {
   "cell_type": "code",
   "execution_count": 4,
   "id": "19f91af9-2c41-4091-8fdb-79c5b3b87b30",
   "metadata": {},
   "outputs": [
    {
     "data": {
      "text/plain": [
       "-10"
      ]
     },
     "execution_count": 4,
     "metadata": {},
     "output_type": "execute_result"
    }
   ],
   "source": [
    "#difference\n",
    "a-b"
   ]
  },
  {
   "cell_type": "code",
   "execution_count": 5,
   "id": "5a62162f-79f2-4abe-8b14-b4580afb8076",
   "metadata": {},
   "outputs": [
    {
     "data": {
      "text/plain": [
       "75"
      ]
     },
     "execution_count": 5,
     "metadata": {},
     "output_type": "execute_result"
    }
   ],
   "source": [
    "#product\n",
    "a*b"
   ]
  },
  {
   "cell_type": "code",
   "execution_count": 6,
   "id": "da6ad5cc-1214-4336-a402-3fdab627c8c3",
   "metadata": {},
   "outputs": [
    {
     "data": {
      "text/plain": [
       "3.0"
      ]
     },
     "execution_count": 6,
     "metadata": {},
     "output_type": "execute_result"
    }
   ],
   "source": [
    "#quotient\n",
    "b/a"
   ]
  },
  {
   "cell_type": "code",
   "execution_count": 7,
   "id": "63ef4ba9-c7de-4b7f-9b23-e96dfa135a19",
   "metadata": {},
   "outputs": [],
   "source": [
    "#Answer 2"
   ]
  },
  {
   "cell_type": "code",
   "execution_count": 8,
   "id": "345bf50f-0fe3-4c15-9876-3353fe437111",
   "metadata": {},
   "outputs": [],
   "source": [
    "a=5"
   ]
  },
  {
   "cell_type": "code",
   "execution_count": 9,
   "id": "650f645b-7a29-4bc9-9081-14101e8cb863",
   "metadata": {},
   "outputs": [
    {
     "data": {
      "text/plain": [
       "5"
      ]
     },
     "execution_count": 9,
     "metadata": {},
     "output_type": "execute_result"
    }
   ],
   "source": [
    "a"
   ]
  },
  {
   "cell_type": "code",
   "execution_count": 10,
   "id": "456b6875-cdca-48b4-bc7b-ceaa49578046",
   "metadata": {},
   "outputs": [
    {
     "data": {
      "text/plain": [
       "9"
      ]
     },
     "execution_count": 10,
     "metadata": {},
     "output_type": "execute_result"
    }
   ],
   "source": [
    "a+4"
   ]
  },
  {
   "cell_type": "code",
   "execution_count": 11,
   "id": "17b2ebc9-30bd-4d55-8283-5e11ad74ee97",
   "metadata": {},
   "outputs": [],
   "source": [
    "a+=10"
   ]
  },
  {
   "cell_type": "code",
   "execution_count": 12,
   "id": "4e3d2c30-08d1-4d17-bf1a-4620359e3f5c",
   "metadata": {},
   "outputs": [
    {
     "data": {
      "text/plain": [
       "15"
      ]
     },
     "execution_count": 12,
     "metadata": {},
     "output_type": "execute_result"
    }
   ],
   "source": [
    "a"
   ]
  },
  {
   "cell_type": "code",
   "execution_count": 13,
   "id": "e474de9c-4f3a-45f2-863d-f7108f634999",
   "metadata": {},
   "outputs": [],
   "source": [
    "a*=5"
   ]
  },
  {
   "cell_type": "code",
   "execution_count": 14,
   "id": "36d8ee49-b7f1-4369-a35b-b6a4cf8e5aa6",
   "metadata": {},
   "outputs": [
    {
     "data": {
      "text/plain": [
       "75"
      ]
     },
     "execution_count": 14,
     "metadata": {},
     "output_type": "execute_result"
    }
   ],
   "source": [
    "a"
   ]
  },
  {
   "cell_type": "code",
   "execution_count": 15,
   "id": "b05b8ce2-5659-4224-b515-22d1c44718b4",
   "metadata": {},
   "outputs": [],
   "source": [
    "a/=10"
   ]
  },
  {
   "cell_type": "code",
   "execution_count": 16,
   "id": "7fcc5d37-a5e6-4527-8ad0-d45a10080dbc",
   "metadata": {},
   "outputs": [
    {
     "data": {
      "text/plain": [
       "7.5"
      ]
     },
     "execution_count": 16,
     "metadata": {},
     "output_type": "execute_result"
    }
   ],
   "source": [
    "a"
   ]
  },
  {
   "cell_type": "code",
   "execution_count": 17,
   "id": "a16de500-db14-4074-86c8-3b61b47c0aec",
   "metadata": {},
   "outputs": [],
   "source": [
    "#Answer 4"
   ]
  },
  {
   "cell_type": "code",
   "execution_count": 18,
   "id": "e434df58-a8f0-4eb4-af36-00fe74f60b9f",
   "metadata": {},
   "outputs": [],
   "source": [
    "a=5\n",
    "b=8"
   ]
  },
  {
   "cell_type": "code",
   "execution_count": 29,
   "id": "e0301760-4136-4d56-9176-0cd002bddd56",
   "metadata": {},
   "outputs": [
    {
     "name": "stdout",
     "output_type": "stream",
     "text": [
      "it is true\n"
     ]
    }
   ],
   "source": [
    "if a<b:\n",
    "    print(\"it is false\")\n",
    "else:\n",
    "    print(\"it is true\")"
   ]
  },
  {
   "cell_type": "code",
   "execution_count": 25,
   "id": "28be54a7-250b-462e-8577-58e8ad44f0f5",
   "metadata": {},
   "outputs": [],
   "source": [
    "a=8\n",
    "b=5"
   ]
  },
  {
   "cell_type": "code",
   "execution_count": 31,
   "id": "40cae46f-6d67-4c1b-8d49-ca59512581af",
   "metadata": {},
   "outputs": [
    {
     "name": "stdout",
     "output_type": "stream",
     "text": [
      "it is true\n"
     ]
    }
   ],
   "source": [
    "if a>b:\n",
    "    print(\"it is true\")\n",
    "else:\n",
    "    print(\"it is false\")"
   ]
  },
  {
   "cell_type": "code",
   "execution_count": 27,
   "id": "ae8cb549-bf4e-436c-8571-3b5c50e8cc9c",
   "metadata": {},
   "outputs": [],
   "source": [
    "#Answer 3"
   ]
  },
  {
   "cell_type": "code",
   "execution_count": 32,
   "id": "a5bebaec-5172-46ff-8079-1c2d9717ae4b",
   "metadata": {},
   "outputs": [],
   "source": [
    "a=85\n",
    "b=50\n"
   ]
  },
  {
   "cell_type": "code",
   "execution_count": 33,
   "id": "cad39552-4a0f-4e0b-a67e-0ddd7774e6bc",
   "metadata": {},
   "outputs": [
    {
     "data": {
      "text/plain": [
       "True"
      ]
     },
     "execution_count": 33,
     "metadata": {},
     "output_type": "execute_result"
    }
   ],
   "source": [
    "a>b"
   ]
  },
  {
   "cell_type": "code",
   "execution_count": 34,
   "id": "379eda79-ae81-49f8-b639-5d5f945fbd16",
   "metadata": {},
   "outputs": [
    {
     "data": {
      "text/plain": [
       "False"
      ]
     },
     "execution_count": 34,
     "metadata": {},
     "output_type": "execute_result"
    }
   ],
   "source": [
    "b==a"
   ]
  },
  {
   "cell_type": "code",
   "execution_count": 35,
   "id": "033ae713-cc38-4405-9428-aaed6d82877f",
   "metadata": {},
   "outputs": [
    {
     "data": {
      "text/plain": [
       "True"
      ]
     },
     "execution_count": 35,
     "metadata": {},
     "output_type": "execute_result"
    }
   ],
   "source": [
    "b<a"
   ]
  },
  {
   "cell_type": "code",
   "execution_count": 36,
   "id": "64d64d0e-8529-44e4-a074-dd790b7e6d27",
   "metadata": {},
   "outputs": [],
   "source": [
    "#Answer 5"
   ]
  },
  {
   "cell_type": "code",
   "execution_count": 37,
   "id": "903e696a-abea-4f79-aaae-b7d6edbb4d17",
   "metadata": {},
   "outputs": [],
   "source": [
    "a = 8\n",
    "b = 5\n"
   ]
  },
  {
   "cell_type": "code",
   "execution_count": 38,
   "id": "9e0fd67f-09ca-4148-9b3d-66df9ca690ab",
   "metadata": {},
   "outputs": [
    {
     "data": {
      "text/plain": [
       "140656621814224"
      ]
     },
     "execution_count": 38,
     "metadata": {},
     "output_type": "execute_result"
    }
   ],
   "source": [
    "id(a)"
   ]
  },
  {
   "cell_type": "code",
   "execution_count": 39,
   "id": "dab681c7-988d-4cc8-944a-93fa098833d5",
   "metadata": {},
   "outputs": [
    {
     "data": {
      "text/plain": [
       "140656621814128"
      ]
     },
     "execution_count": 39,
     "metadata": {},
     "output_type": "execute_result"
    }
   ],
   "source": [
    "id(b)"
   ]
  },
  {
   "cell_type": "code",
   "execution_count": 40,
   "id": "06740a08-b637-48f5-8526-8d6ab15bb423",
   "metadata": {},
   "outputs": [],
   "source": [
    "#Answer 6"
   ]
  },
  {
   "cell_type": "code",
   "execution_count": 41,
   "id": "6df91546-c905-4de1-a354-30a59de67d93",
   "metadata": {},
   "outputs": [],
   "source": [
    "a = 5\n",
    "b = 9"
   ]
  },
  {
   "cell_type": "code",
   "execution_count": 42,
   "id": "fa85af82-9ae7-463c-9ef4-468c95d7dec1",
   "metadata": {},
   "outputs": [
    {
     "data": {
      "text/plain": [
       "'0b101'"
      ]
     },
     "execution_count": 42,
     "metadata": {},
     "output_type": "execute_result"
    }
   ],
   "source": [
    "bin(a)"
   ]
  },
  {
   "cell_type": "code",
   "execution_count": 43,
   "id": "3a23f408-ba59-4791-9c26-872951508268",
   "metadata": {},
   "outputs": [
    {
     "data": {
      "text/plain": [
       "'0b1001'"
      ]
     },
     "execution_count": 43,
     "metadata": {},
     "output_type": "execute_result"
    }
   ],
   "source": [
    "bin(b)"
   ]
  },
  {
   "cell_type": "code",
   "execution_count": 44,
   "id": "1233ac0a-18cf-4f1f-b5ce-17967a321390",
   "metadata": {},
   "outputs": [
    {
     "data": {
      "text/plain": [
       "'0b1010b1001'"
      ]
     },
     "execution_count": 44,
     "metadata": {},
     "output_type": "execute_result"
    }
   ],
   "source": [
    "bin(a)+bin(b)"
   ]
  },
  {
   "cell_type": "code",
   "execution_count": 45,
   "id": "a0e777ed-1e57-4cf6-96b7-25145ba10258",
   "metadata": {},
   "outputs": [],
   "source": [
    "#Answer 7"
   ]
  },
  {
   "cell_type": "code",
   "execution_count": 46,
   "id": "fc449ad4-b67a-456c-82a2-d95973b9a0fc",
   "metadata": {},
   "outputs": [],
   "source": [
    "a = 5"
   ]
  },
  {
   "cell_type": "code",
   "execution_count": 47,
   "id": "9d4d9cda-9a25-40af-b0aa-2962569ff41b",
   "metadata": {},
   "outputs": [
    {
     "data": {
      "text/plain": [
       "-6"
      ]
     },
     "execution_count": 47,
     "metadata": {},
     "output_type": "execute_result"
    }
   ],
   "source": [
    "~a"
   ]
  },
  {
   "cell_type": "code",
   "execution_count": 48,
   "id": "20469836-15a6-4504-be69-3326cf024d5b",
   "metadata": {},
   "outputs": [],
   "source": [
    "#Answer 8"
   ]
  },
  {
   "cell_type": "code",
   "execution_count": null,
   "id": "62cef3b2-a2e0-4d3c-80a0-7d200ab35602",
   "metadata": {},
   "outputs": [],
   "source": [
    "a=5\n",
    "b=7\n",
    "c=12\n",
    "\n",
    "if a+b == c:\n",
    "    "
   ]
  }
 ],
 "metadata": {
  "kernelspec": {
   "display_name": "Python 3 (ipykernel)",
   "language": "python",
   "name": "python3"
  },
  "language_info": {
   "codemirror_mode": {
    "name": "ipython",
    "version": 3
   },
   "file_extension": ".py",
   "mimetype": "text/x-python",
   "name": "python",
   "nbconvert_exporter": "python",
   "pygments_lexer": "ipython3",
   "version": "3.10.8"
  }
 },
 "nbformat": 4,
 "nbformat_minor": 5
}
